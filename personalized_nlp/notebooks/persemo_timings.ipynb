{
 "cells": [
  {
   "cell_type": "code",
   "execution_count": 1,
   "metadata": {},
   "outputs": [],
   "source": [
    "%load_ext autoreload\n",
    "%autoreload 2\n",
    "\n",
    "import sys\n",
    "sys.path.append('../../')\n",
    "\n",
    "import os\n",
    "os.environ[\"CUDA_VISIBLE_DEVICES\"] = '1'\n",
    "\n",
    "os.makedirs('./data/timings', exist_ok=True)"
   ]
  },
  {
   "cell_type": "code",
   "execution_count": 2,
   "metadata": {},
   "outputs": [],
   "source": [
    "import torch\n",
    "import numpy as np\n",
    "import random\n",
    "\n",
    "def seed_everything():\n",
    "    torch.manual_seed(0)\n",
    "    random.seed(0)\n",
    "    np.random.seed(0)"
   ]
  },
  {
   "cell_type": "code",
   "execution_count": 3,
   "metadata": {},
   "outputs": [],
   "source": [
    "model_names_dicts = {\n",
    "    'baseline': 'TXT-Baseline', \n",
    "    'word_bias': 'Word-Bias', \n",
    "    'onehot': 'OneHot', \n",
    "    'peb': 'HuBi-Formula', \n",
    "    'bias': 'HuBi-Simple', \n",
    "    'embedding': 'HuBi-Medium', \n",
    "    'word_embedding': 'HuBi-Complex'\n",
    "}\n",
    "model_names_order = list(model_names_dicts.values())\n",
    "\n",
    "language_model_names_dicts = {\n",
    "    'xlmr': 'XLM-R', \n",
    "    'bert': 'BERT', \n",
    "    'deberta': 'DeBERTa',\n",
    "    'labse': 'LaBSE',\n",
    "}"
   ]
  },
  {
   "cell_type": "markdown",
   "metadata": {},
   "source": [
    "## Import models"
   ]
  },
  {
   "cell_type": "code",
   "execution_count": 4,
   "metadata": {},
   "outputs": [],
   "source": [
    "results = []"
   ]
  },
  {
   "cell_type": "code",
   "execution_count": 5,
   "metadata": {
    "scrolled": true
   },
   "outputs": [
    {
     "name": "stderr",
     "output_type": "stream",
     "text": [
      "Failed to detect the name of this notebook, you can set it manually with the WANDB_NOTEBOOK_NAME environment variable to enable code saving.\n",
      "wandb: Currently logged in as: satyrr (use `wandb login --relogin` to force relogin)\n",
      "wandb: wandb version 0.12.7 is available!  To upgrade, please run:\n",
      "wandb:  $ pip install wandb --upgrade\n"
     ]
    },
    {
     "data": {
      "text/html": [
       "\n",
       "                Tracking run with wandb version 0.10.32<br/>\n",
       "                Syncing run <strong style=\"color:#cdcd00\">azure-snowball-266</strong> to <a href=\"https://wandb.ai\" target=\"_blank\">Weights & Biases</a> <a href=\"https://docs.wandb.com/integrations/jupyter.html\" target=\"_blank\">(Documentation)</a>.<br/>\n",
       "                Project page: <a href=\"https://wandb.ai/satyrr/null\" target=\"_blank\">https://wandb.ai/satyrr/null</a><br/>\n",
       "                Run page: <a href=\"https://wandb.ai/satyrr/null/runs/26r4jjel\" target=\"_blank\">https://wandb.ai/satyrr/null/runs/26r4jjel</a><br/>\n",
       "                Run data is saved locally in <code>/mnt/big_one/persemo/mgruza/humor-personalization/personalized_nlp/storage/logs/wandb/run-20211213_230236-26r4jjel</code><br/><br/>\n",
       "            "
      ],
      "text/plain": [
       "<IPython.core.display.HTML object>"
      ]
     },
     "metadata": {},
     "output_type": "display_data"
    },
    {
     "name": "stderr",
     "output_type": "stream",
     "text": [
      "GPU available: True, used: True\n",
      "TPU available: False, using: 0 TPU cores\n",
      "IPU available: False, using: 0 IPUs\n",
      "LOCAL_RANK: 0 - CUDA_VISIBLE_DEVICES: [1]\n",
      "\n",
      "  | Name    | Type       | Params\n",
      "---------------------------------------\n",
      "0 | model   | Net        | 7.7 K \n",
      "1 | metrics | ModuleDict | 0     \n",
      "---------------------------------------\n",
      "7.7 K     Trainable params\n",
      "0         Non-trainable params\n",
      "7.7 K     Total params\n",
      "0.031     Total estimated model params size (MB)\n"
     ]
    },
    {
     "data": {
      "application/vnd.jupyter.widget-view+json": {
       "model_id": "6403136c5cbf4518a7f28a5ebdfa090d",
       "version_major": 2,
       "version_minor": 0
      },
      "text/plain": [
       "HBox(children=(HTML(value='Validation sanity check'), FloatProgress(value=1.0, bar_style='info', layout=Layout…"
      ]
     },
     "metadata": {},
     "output_type": "display_data"
    },
    {
     "name": "stderr",
     "output_type": "stream",
     "text": [
      "/home/mgruza/.local/lib/python3.8/site-packages/pytorch_lightning/trainer/data_loading.py:105: UserWarning: The dataloader, val dataloader 0, does not have many workers which may be a bottleneck. Consider increasing the value of the `num_workers` argument` (try 64 which is the number of cpus on this machine) in the `DataLoader` init to improve performance.\n",
      "  rank_zero_warn(\n",
      "/home/mgruza/.local/lib/python3.8/site-packages/pytorch_lightning/trainer/data_loading.py:105: UserWarning: The dataloader, train dataloader, does not have many workers which may be a bottleneck. Consider increasing the value of the `num_workers` argument` (try 64 which is the number of cpus on this machine) in the `DataLoader` init to improve performance.\n",
      "  rank_zero_warn(\n"
     ]
    },
    {
     "data": {
      "application/vnd.jupyter.widget-view+json": {
       "model_id": "a5e72659c9d34bdfbba4bbb7da555012",
       "version_major": 2,
       "version_minor": 0
      },
      "text/plain": [
       "HBox(children=(HTML(value='Training'), FloatProgress(value=1.0, bar_style='info', layout=Layout(flex='2'), max…"
      ]
     },
     "metadata": {},
     "output_type": "display_data"
    },
    {
     "data": {
      "application/vnd.jupyter.widget-view+json": {
       "model_id": "318cc322961e4d65a17c3fcc22d1da25",
       "version_major": 2,
       "version_minor": 0
      },
      "text/plain": [
       "HBox(children=(HTML(value='Validating'), FloatProgress(value=1.0, bar_style='info', layout=Layout(flex='2'), m…"
      ]
     },
     "metadata": {},
     "output_type": "display_data"
    },
    {
     "data": {
      "application/vnd.jupyter.widget-view+json": {
       "model_id": "25a862c67ff64c348b4ac5877b57878a",
       "version_major": 2,
       "version_minor": 0
      },
      "text/plain": [
       "HBox(children=(HTML(value='Validating'), FloatProgress(value=1.0, bar_style='info', layout=Layout(flex='2'), m…"
      ]
     },
     "metadata": {},
     "output_type": "display_data"
    },
    {
     "data": {
      "application/vnd.jupyter.widget-view+json": {
       "model_id": "cf7708818a1640f9a98c941d53faf232",
       "version_major": 2,
       "version_minor": 0
      },
      "text/plain": [
       "HBox(children=(HTML(value='Validating'), FloatProgress(value=1.0, bar_style='info', layout=Layout(flex='2'), m…"
      ]
     },
     "metadata": {},
     "output_type": "display_data"
    },
    {
     "name": "stderr",
     "output_type": "stream",
     "text": [
      "/home/mgruza/.local/lib/python3.8/site-packages/pytorch_lightning/trainer/trainer.py:679: LightningDeprecationWarning: `trainer.test(test_dataloaders)` is deprecated in v1.4 and will be removed in v1.6. Use `trainer.test(dataloaders)` instead.\n",
      "  rank_zero_deprecation(\n",
      "LOCAL_RANK: 0 - CUDA_VISIBLE_DEVICES: [1]\n"
     ]
    },
    {
     "name": "stdout",
     "output_type": "stream",
     "text": [
      "\n"
     ]
    },
    {
     "name": "stderr",
     "output_type": "stream",
     "text": [
      "/home/mgruza/.local/lib/python3.8/site-packages/pytorch_lightning/trainer/data_loading.py:105: UserWarning: The dataloader, test dataloader 0, does not have many workers which may be a bottleneck. Consider increasing the value of the `num_workers` argument` (try 64 which is the number of cpus on this machine) in the `DataLoader` init to improve performance.\n",
      "  rank_zero_warn(\n"
     ]
    },
    {
     "data": {
      "application/vnd.jupyter.widget-view+json": {
       "model_id": "8739b97605cb481db32de19a8df8f3d9",
       "version_major": 2,
       "version_minor": 0
      },
      "text/plain": [
       "HBox(children=(HTML(value='Testing'), FloatProgress(value=1.0, bar_style='info', layout=Layout(flex='2'), max=…"
      ]
     },
     "metadata": {},
     "output_type": "display_data"
    },
    {
     "name": "stdout",
     "output_type": "stream",
     "text": [
      "--------------------------------------------------------------------------------\n",
      "DATALOADER:0 TEST RESULTS\n",
      "{'test_loss': 0.08458543568849564,\n",
      " 'test_r2_OCZEKIWANIE': 0.01248194184154272,\n",
      " 'test_r2_POBUDZENIE EMOCJONALNE': -0.006965355481952429,\n",
      " 'test_r2_RADOŚĆ': 0.15714210271835327,\n",
      " 'test_r2_SMUTEK': 0.09816141426563263,\n",
      " 'test_r2_STRACH': -0.007264277432113886,\n",
      " 'test_r2_WSTRĘT': 0.06907856464385986,\n",
      " 'test_r2_ZASKOCZENIE': -0.03362727537751198,\n",
      " 'test_r2_ZAUFANIE': 0.09430740028619766,\n",
      " 'test_r2_ZNAK EMOCJI': 0.19301649928092957,\n",
      " 'test_r2_ZŁOŚĆ': 0.1559329479932785,\n",
      " 'test_r2_mean': 0.07322639226913452}\n",
      "--------------------------------------------------------------------------------\n",
      "\n"
     ]
    },
    {
     "data": {
      "text/html": [
       "<br/>Waiting for W&B process to finish, PID 2837058<br/>Program ended successfully."
      ],
      "text/plain": [
       "<IPython.core.display.HTML object>"
      ]
     },
     "metadata": {},
     "output_type": "display_data"
    },
    {
     "data": {
      "application/vnd.jupyter.widget-view+json": {
       "model_id": "9c9974218cbf48059dad1df3fd5372f7",
       "version_major": 2,
       "version_minor": 0
      },
      "text/plain": [
       "VBox(children=(Label(value=' 0.44MB of 0.44MB uploaded (0.00MB deduped)\\r'), FloatProgress(value=1.0, max=1.0)…"
      ]
     },
     "metadata": {},
     "output_type": "display_data"
    },
    {
     "data": {
      "text/html": [
       "Find user logs for this run at: <code>/mnt/big_one/persemo/mgruza/humor-personalization/personalized_nlp/storage/logs/wandb/run-20211213_230236-26r4jjel/logs/debug.log</code>"
      ],
      "text/plain": [
       "<IPython.core.display.HTML object>"
      ]
     },
     "metadata": {},
     "output_type": "display_data"
    },
    {
     "data": {
      "text/html": [
       "Find internal logs for this run at: <code>/mnt/big_one/persemo/mgruza/humor-personalization/personalized_nlp/storage/logs/wandb/run-20211213_230236-26r4jjel/logs/debug-internal.log</code>"
      ],
      "text/plain": [
       "<IPython.core.display.HTML object>"
      ]
     },
     "metadata": {},
     "output_type": "display_data"
    },
    {
     "data": {
      "text/html": [
       "<h3>Run summary:</h3><br/><style>\n",
       "    table.wandb td:nth-child(1) { padding: 0 10px; text-align: right }\n",
       "    </style><table class=\"wandb\">\n",
       "<tr><td>train_loss_step</td><td>0.08772</td></tr><tr><td>epoch</td><td>2</td></tr><tr><td>trainer/global_step</td><td>660</td></tr><tr><td>_runtime</td><td>11</td></tr><tr><td>_timestamp</td><td>1639432967</td></tr><tr><td>_step</td><td>19</td></tr><tr><td>valid_loss</td><td>0.08306</td></tr><tr><td>valid_r2_OCZEKIWANIE</td><td>-0.01732</td></tr><tr><td>valid_r2_POBUDZENIE EMOCJONALNE</td><td>-0.02682</td></tr><tr><td>valid_r2_RADOŚĆ</td><td>0.12891</td></tr><tr><td>valid_r2_SMUTEK</td><td>0.09508</td></tr><tr><td>valid_r2_STRACH</td><td>0.02614</td></tr><tr><td>valid_r2_WSTRĘT</td><td>0.06403</td></tr><tr><td>valid_r2_ZASKOCZENIE</td><td>-0.04667</td></tr><tr><td>valid_r2_ZAUFANIE</td><td>0.08772</td></tr><tr><td>valid_r2_ZNAK EMOCJI</td><td>0.12343</td></tr><tr><td>valid_r2_ZŁOŚĆ</td><td>0.14203</td></tr><tr><td>valid_r2_mean</td><td>0.05765</td></tr><tr><td>train_loss_epoch</td><td>0.08708</td></tr><tr><td>test_loss</td><td>0.08459</td></tr><tr><td>test_r2_OCZEKIWANIE</td><td>0.01248</td></tr><tr><td>test_r2_POBUDZENIE EMOCJONALNE</td><td>-0.00697</td></tr><tr><td>test_r2_RADOŚĆ</td><td>0.15714</td></tr><tr><td>test_r2_SMUTEK</td><td>0.09816</td></tr><tr><td>test_r2_STRACH</td><td>-0.00726</td></tr><tr><td>test_r2_WSTRĘT</td><td>0.06908</td></tr><tr><td>test_r2_ZASKOCZENIE</td><td>-0.03363</td></tr><tr><td>test_r2_ZAUFANIE</td><td>0.09431</td></tr><tr><td>test_r2_ZNAK EMOCJI</td><td>0.19302</td></tr><tr><td>test_r2_ZŁOŚĆ</td><td>0.15593</td></tr><tr><td>test_r2_mean</td><td>0.07323</td></tr></table>"
      ],
      "text/plain": [
       "<IPython.core.display.HTML object>"
      ]
     },
     "metadata": {},
     "output_type": "display_data"
    },
    {
     "data": {
      "text/html": [
       "<h3>Run history:</h3><br/><style>\n",
       "    table.wandb td:nth-child(1) { padding: 0 10px; text-align: right }\n",
       "    </style><table class=\"wandb\">\n",
       "<tr><td>train_loss_step</td><td>█▁▃▂▂▁▁▃▂▂▂▂▂</td></tr><tr><td>epoch</td><td>▁▁▁▁▁▁▅▅▅▅▅▅████████</td></tr><tr><td>trainer/global_step</td><td>▁▂▂▃▃▃▃▄▄▅▅▅▆▆▇▇████</td></tr><tr><td>_runtime</td><td>▁▁▁▁▁▁▂▂▂▂▂▂▂▃▃▃▃▃▃█</td></tr><tr><td>_timestamp</td><td>▁▁▁▁▁▁▂▂▂▂▂▂▂▃▃▃▃▃▃█</td></tr><tr><td>_step</td><td>▁▁▂▂▂▃▃▄▄▄▅▅▅▆▆▇▇▇██</td></tr><tr><td>valid_loss</td><td>▄▁█</td></tr><tr><td>valid_r2_OCZEKIWANIE</td><td>▅█▁</td></tr><tr><td>valid_r2_POBUDZENIE EMOCJONALNE</td><td>▃█▁</td></tr><tr><td>valid_r2_RADOŚĆ</td><td>▂█▁</td></tr><tr><td>valid_r2_SMUTEK</td><td>▁██</td></tr><tr><td>valid_r2_STRACH</td><td>▁▂█</td></tr><tr><td>valid_r2_WSTRĘT</td><td>▁█▅</td></tr><tr><td>valid_r2_ZASKOCZENIE</td><td>█▁▃</td></tr><tr><td>valid_r2_ZAUFANIE</td><td>█▁▁</td></tr><tr><td>valid_r2_ZNAK EMOCJI</td><td>█▄▁</td></tr><tr><td>valid_r2_ZŁOŚĆ</td><td>▁▁█</td></tr><tr><td>valid_r2_mean</td><td>▇█▁</td></tr><tr><td>train_loss_epoch</td><td>█▁▁</td></tr><tr><td>test_loss</td><td>▁</td></tr><tr><td>test_r2_OCZEKIWANIE</td><td>▁</td></tr><tr><td>test_r2_POBUDZENIE EMOCJONALNE</td><td>▁</td></tr><tr><td>test_r2_RADOŚĆ</td><td>▁</td></tr><tr><td>test_r2_SMUTEK</td><td>▁</td></tr><tr><td>test_r2_STRACH</td><td>▁</td></tr><tr><td>test_r2_WSTRĘT</td><td>▁</td></tr><tr><td>test_r2_ZASKOCZENIE</td><td>▁</td></tr><tr><td>test_r2_ZAUFANIE</td><td>▁</td></tr><tr><td>test_r2_ZNAK EMOCJI</td><td>▁</td></tr><tr><td>test_r2_ZŁOŚĆ</td><td>▁</td></tr><tr><td>test_r2_mean</td><td>▁</td></tr></table><br/>"
      ],
      "text/plain": [
       "<IPython.core.display.HTML object>"
      ]
     },
     "metadata": {},
     "output_type": "display_data"
    },
    {
     "data": {
      "text/html": [
       "Synced 6 W&B file(s), 0 media file(s), 0 artifact file(s) and 1 other file(s)"
      ],
      "text/plain": [
       "<IPython.core.display.HTML object>"
      ]
     },
     "metadata": {},
     "output_type": "display_data"
    },
    {
     "data": {
      "text/html": [
       "\n",
       "                    <br/>Synced <strong style=\"color:#cdcd00\">azure-snowball-266</strong>: <a href=\"https://wandb.ai/satyrr/null/runs/26r4jjel\" target=\"_blank\">https://wandb.ai/satyrr/null/runs/26r4jjel</a><br/>\n",
       "                "
      ],
      "text/plain": [
       "<IPython.core.display.HTML object>"
      ]
     },
     "metadata": {},
     "output_type": "display_data"
    },
    {
     "name": "stderr",
     "output_type": "stream",
     "text": [
      "wandb: wandb version 0.12.7 is available!  To upgrade, please run:\n",
      "wandb:  $ pip install wandb --upgrade\n"
     ]
    },
    {
     "data": {
      "text/html": [
       "\n",
       "                Tracking run with wandb version 0.10.32<br/>\n",
       "                Syncing run <strong style=\"color:#cdcd00\">devoted-glitter-267</strong> to <a href=\"https://wandb.ai\" target=\"_blank\">Weights & Biases</a> <a href=\"https://docs.wandb.com/integrations/jupyter.html\" target=\"_blank\">(Documentation)</a>.<br/>\n",
       "                Project page: <a href=\"https://wandb.ai/satyrr/null\" target=\"_blank\">https://wandb.ai/satyrr/null</a><br/>\n",
       "                Run page: <a href=\"https://wandb.ai/satyrr/null/runs/2cyk9mm9\" target=\"_blank\">https://wandb.ai/satyrr/null/runs/2cyk9mm9</a><br/>\n",
       "                Run data is saved locally in <code>/mnt/big_one/persemo/mgruza/humor-personalization/personalized_nlp/storage/logs/wandb/run-20211213_230251-2cyk9mm9</code><br/><br/>\n",
       "            "
      ],
      "text/plain": [
       "<IPython.core.display.HTML object>"
      ]
     },
     "metadata": {},
     "output_type": "display_data"
    },
    {
     "name": "stderr",
     "output_type": "stream",
     "text": [
      "GPU available: True, used: True\n",
      "TPU available: False, using: 0 TPU cores\n",
      "IPU available: False, using: 0 IPUs\n",
      "LOCAL_RANK: 0 - CUDA_VISIBLE_DEVICES: [1]\n",
      "\n",
      "  | Name    | Type       | Params\n",
      "---------------------------------------\n",
      "0 | model   | Net        | 7.7 K \n",
      "1 | metrics | ModuleDict | 0     \n",
      "---------------------------------------\n",
      "7.7 K     Trainable params\n",
      "0         Non-trainable params\n",
      "7.7 K     Total params\n",
      "0.031     Total estimated model params size (MB)\n"
     ]
    },
    {
     "data": {
      "application/vnd.jupyter.widget-view+json": {
       "model_id": "1aaa3be49941410b8daa9d63066dd761",
       "version_major": 2,
       "version_minor": 0
      },
      "text/plain": [
       "HBox(children=(HTML(value='Validation sanity check'), FloatProgress(value=1.0, bar_style='info', layout=Layout…"
      ]
     },
     "metadata": {},
     "output_type": "display_data"
    },
    {
     "data": {
      "application/vnd.jupyter.widget-view+json": {
       "model_id": "146a0ff3c24142288322cd6f1a025a93",
       "version_major": 2,
       "version_minor": 0
      },
      "text/plain": [
       "HBox(children=(HTML(value='Training'), FloatProgress(value=1.0, bar_style='info', layout=Layout(flex='2'), max…"
      ]
     },
     "metadata": {},
     "output_type": "display_data"
    }
   ],
   "source": [
    "import os\n",
    "from itertools import product\n",
    "\n",
    "from personalized_nlp.learning.train import train_test\n",
    "from personalized_nlp.models import models as models_dict\n",
    "from personalized_nlp.settings import LOGS_DIR\n",
    "from personalized_nlp.datasets.emotions.emotions import EmotionsDataModule\n",
    "from personalized_nlp.utils import seed_everything\n",
    "from personalized_nlp.utils.callbacks.time import TimingCallback\n",
    "from pytorch_lightning import loggers as pl_loggers\n",
    "\n",
    "wandb_project_name = 'null'\n",
    "regression = True\n",
    "datamodule_cls = EmotionsDataModule\n",
    "#embedding_types = ['deberta']\n",
    "#embedding_types = ['labse']\n",
    "embedding_types = ['labse', 'xlmr', 'deberta']\n",
    "model_types = ['baseline', 'onehot', 'peb', 'bias', 'word_bias', 'embedding', 'word_embedding']\n",
    "limit_past_annotations_list = [None] # range(20)\n",
    "fold_nums = 10\n",
    "\n",
    "min_word_counts = [200]\n",
    "words_per_texts = [100]\n",
    "\n",
    "batch_size = 1000\n",
    "dp_embs = [0.25]\n",
    "embedding_dims = [50]\n",
    "epochs = 3\n",
    "lr_rate = 0.008\n",
    "user_folding = True\n",
    "test_repetitions = 100\n",
    "\n",
    "use_cuda = True\n",
    "\n",
    "for (min_word_count, words_per_text, embeddings_type, limit_past_annotations) in product(\n",
    "    min_word_counts, words_per_texts, embedding_types, limit_past_annotations_list\n",
    "):\n",
    "\n",
    "    seed_everything()\n",
    "    data_module = datamodule_cls(\n",
    "        embeddings_type=embeddings_type, normalize=regression, batch_size=batch_size,\n",
    "        past_annotations_limit=limit_past_annotations\n",
    "    )\n",
    "    data_module.prepare_data()\n",
    "    data_module.setup()\n",
    "    data_module.compute_word_stats(\n",
    "        min_word_count=min_word_count,\n",
    "        min_std=0.0,\n",
    "        words_per_text=words_per_text,\n",
    "    )\n",
    "\n",
    "    for model_type, embedding_dim, dp_emb, fold_num in product(\n",
    "        model_types, embedding_dims, dp_embs, range(fold_nums)\n",
    "    ):\n",
    "        hparams = {\n",
    "            \"dataset\": type(data_module).__name__,\n",
    "            \"model_type\": model_type,\n",
    "            \"embeddings_type\": embeddings_type,\n",
    "            \"embedding_size\": embedding_dim,\n",
    "            \"fold_num\": fold_num,\n",
    "            \"regression\": regression,\n",
    "            \"words_per_texts\": words_per_text,\n",
    "            \"min_word_count\": min_word_count,\n",
    "            \"dp_emb\": dp_emb,\n",
    "        }\n",
    "\n",
    "        logger = pl_loggers.WandbLogger(\n",
    "            save_dir=LOGS_DIR,\n",
    "            config=hparams,\n",
    "            project=wandb_project_name,\n",
    "            log_model=False,\n",
    "        )\n",
    "\n",
    "        output_dim = len(data_module.class_dims) if regression else sum(data_module.class_dims)\n",
    "        text_embedding_dim = data_module.text_embedding_dim\n",
    "        model_cls = models_dict[model_type]\n",
    "        \n",
    "        model = model_cls(\n",
    "            output_dim=output_dim,\n",
    "            text_embedding_dim=text_embedding_dim,\n",
    "            word_num=data_module.words_number,\n",
    "            annotator_num=data_module.annotators_number,\n",
    "            dp=0.0,\n",
    "            dp_emb=dp_emb,\n",
    "            embedding_dim=embedding_dim,\n",
    "            hidden_dim=100,\n",
    "            bias_vector_length=len(data_module.class_dims)\n",
    "        )\n",
    "\n",
    "        test_fold = fold_num if user_folding else None\n",
    "        timing_callback = TimingCallback()\n",
    "        trainer = train_test(\n",
    "            data_module,\n",
    "            model,\n",
    "            epochs=epochs,\n",
    "            lr=lr_rate,\n",
    "            regression=regression,\n",
    "            use_cuda=use_cuda,\n",
    "            logger=logger,\n",
    "            test_fold=test_fold,\n",
    "            custom_callbacks=[timing_callback], \n",
    "            test_repetitions=test_repetitions\n",
    "        )\n",
    "\n",
    "        logger.experiment.finish()\n",
    "        \n",
    "        results.append((hparams, timing_callback, trainer.model))"
   ]
  },
  {
   "cell_type": "markdown",
   "metadata": {},
   "source": [
    "## Training time results"
   ]
  },
  {
   "cell_type": "code",
   "execution_count": null,
   "metadata": {},
   "outputs": [
    {
     "data": {
      "text/html": [
       "<div>\n",
       "<style scoped>\n",
       "    .dataframe tbody tr th:only-of-type {\n",
       "        vertical-align: middle;\n",
       "    }\n",
       "\n",
       "    .dataframe tbody tr th {\n",
       "        vertical-align: top;\n",
       "    }\n",
       "\n",
       "    .dataframe thead th {\n",
       "        text-align: right;\n",
       "    }\n",
       "</style>\n",
       "<table border=\"1\" class=\"dataframe\">\n",
       "  <thead>\n",
       "    <tr style=\"text-align: right;\">\n",
       "      <th></th>\n",
       "      <th>dataset</th>\n",
       "      <th>model_type</th>\n",
       "      <th>embeddings_type</th>\n",
       "      <th>embedding_size</th>\n",
       "      <th>fold_num</th>\n",
       "      <th>regression</th>\n",
       "      <th>words_per_texts</th>\n",
       "      <th>min_word_count</th>\n",
       "      <th>dp_emb</th>\n",
       "      <th>training_time</th>\n",
       "      <th>best_epoch</th>\n",
       "    </tr>\n",
       "  </thead>\n",
       "  <tbody>\n",
       "    <tr>\n",
       "      <th>0</th>\n",
       "      <td>EmotionsDataModule</td>\n",
       "      <td>baseline</td>\n",
       "      <td>labse</td>\n",
       "      <td>50</td>\n",
       "      <td>0</td>\n",
       "      <td>True</td>\n",
       "      <td>100</td>\n",
       "      <td>200</td>\n",
       "      <td>0.25</td>\n",
       "      <td>2.141013</td>\n",
       "      <td>1</td>\n",
       "    </tr>\n",
       "    <tr>\n",
       "      <th>1</th>\n",
       "      <td>EmotionsDataModule</td>\n",
       "      <td>onehot</td>\n",
       "      <td>labse</td>\n",
       "      <td>50</td>\n",
       "      <td>0</td>\n",
       "      <td>True</td>\n",
       "      <td>100</td>\n",
       "      <td>200</td>\n",
       "      <td>0.25</td>\n",
       "      <td>2.284283</td>\n",
       "      <td>1</td>\n",
       "    </tr>\n",
       "    <tr>\n",
       "      <th>2</th>\n",
       "      <td>EmotionsDataModule</td>\n",
       "      <td>peb</td>\n",
       "      <td>labse</td>\n",
       "      <td>50</td>\n",
       "      <td>0</td>\n",
       "      <td>True</td>\n",
       "      <td>100</td>\n",
       "      <td>200</td>\n",
       "      <td>0.25</td>\n",
       "      <td>3.147400</td>\n",
       "      <td>2</td>\n",
       "    </tr>\n",
       "    <tr>\n",
       "      <th>3</th>\n",
       "      <td>EmotionsDataModule</td>\n",
       "      <td>bias</td>\n",
       "      <td>labse</td>\n",
       "      <td>50</td>\n",
       "      <td>0</td>\n",
       "      <td>True</td>\n",
       "      <td>100</td>\n",
       "      <td>200</td>\n",
       "      <td>0.25</td>\n",
       "      <td>3.995594</td>\n",
       "      <td>2</td>\n",
       "    </tr>\n",
       "    <tr>\n",
       "      <th>4</th>\n",
       "      <td>EmotionsDataModule</td>\n",
       "      <td>word_bias</td>\n",
       "      <td>labse</td>\n",
       "      <td>50</td>\n",
       "      <td>0</td>\n",
       "      <td>True</td>\n",
       "      <td>100</td>\n",
       "      <td>200</td>\n",
       "      <td>0.25</td>\n",
       "      <td>1.257690</td>\n",
       "      <td>0</td>\n",
       "    </tr>\n",
       "    <tr>\n",
       "      <th>5</th>\n",
       "      <td>EmotionsDataModule</td>\n",
       "      <td>embedding</td>\n",
       "      <td>labse</td>\n",
       "      <td>50</td>\n",
       "      <td>0</td>\n",
       "      <td>True</td>\n",
       "      <td>100</td>\n",
       "      <td>200</td>\n",
       "      <td>0.25</td>\n",
       "      <td>4.309278</td>\n",
       "      <td>2</td>\n",
       "    </tr>\n",
       "    <tr>\n",
       "      <th>6</th>\n",
       "      <td>EmotionsDataModule</td>\n",
       "      <td>word_embedding</td>\n",
       "      <td>labse</td>\n",
       "      <td>50</td>\n",
       "      <td>0</td>\n",
       "      <td>True</td>\n",
       "      <td>100</td>\n",
       "      <td>200</td>\n",
       "      <td>0.25</td>\n",
       "      <td>4.616602</td>\n",
       "      <td>2</td>\n",
       "    </tr>\n",
       "  </tbody>\n",
       "</table>\n",
       "</div>"
      ],
      "text/plain": [
       "              dataset      model_type embeddings_type  embedding_size  \\\n",
       "0  EmotionsDataModule        baseline           labse              50   \n",
       "1  EmotionsDataModule          onehot           labse              50   \n",
       "2  EmotionsDataModule             peb           labse              50   \n",
       "3  EmotionsDataModule            bias           labse              50   \n",
       "4  EmotionsDataModule       word_bias           labse              50   \n",
       "5  EmotionsDataModule       embedding           labse              50   \n",
       "6  EmotionsDataModule  word_embedding           labse              50   \n",
       "\n",
       "   fold_num  regression  words_per_texts  min_word_count  dp_emb  \\\n",
       "0         0        True              100             200    0.25   \n",
       "1         0        True              100             200    0.25   \n",
       "2         0        True              100             200    0.25   \n",
       "3         0        True              100             200    0.25   \n",
       "4         0        True              100             200    0.25   \n",
       "5         0        True              100             200    0.25   \n",
       "6         0        True              100             200    0.25   \n",
       "\n",
       "   training_time  best_epoch  \n",
       "0       2.141013           1  \n",
       "1       2.284283           1  \n",
       "2       3.147400           2  \n",
       "3       3.995594           2  \n",
       "4       1.257690           0  \n",
       "5       4.309278           2  \n",
       "6       4.616602           2  "
      ]
     },
     "execution_count": 20,
     "metadata": {},
     "output_type": "execute_result"
    }
   ],
   "source": [
    "from collections import defaultdict\n",
    "import pandas as pd \n",
    "\n",
    "result_dict = defaultdict(list)\n",
    "\n",
    "for hparams, callback, model in results:\n",
    "    for hparam_key, hparam_value in hparams.items():\n",
    "        result_dict[hparam_key].append(hparam_value)\n",
    "    \n",
    "    epoch_stats = callback.epoch_stats[1:]\n",
    "    \n",
    "    best_epoch_idx = np.argmin([es[2] for es in epoch_stats])\n",
    "    \n",
    "    result_dict['training_time'].append(epoch_stats[best_epoch_idx][1]) \n",
    "    result_dict['best_epoch'].append(best_epoch_idx) \n",
    "    \n",
    "results_df = pd.DataFrame(result_dict)\n",
    "results_df"
   ]
  },
  {
   "cell_type": "code",
   "execution_count": null,
   "metadata": {},
   "outputs": [],
   "source": [
    "\n",
    "import pandas as pd \n",
    "results_df.to_csv('./data/timings/training.times.csv')\n",
    "results_df = pd.read_csv('./data/timings/training.times.csv')\n",
    "\n",
    "results_df['model type'] = results_df['model_type'].apply(model_names_dicts.get)\n",
    "results_df['embeddings type'] = results_df['embeddings_type'].apply(language_model_names_dicts.get)\n",
    "results_df = results_df.sort_values(by='model type', key=lambda x: x.map(model_names_order.index))"
   ]
  },
  {
   "cell_type": "code",
   "execution_count": null,
   "metadata": {},
   "outputs": [
    {
     "data": {
      "image/png": "[encoded data removed]",
      "text/plain": [
       "<Figure size 1080x720 with 1 Axes>"
      ]
     },
     "metadata": {
      "needs_background": "light"
     },
     "output_type": "display_data"
    },
    {
     "data": {
      "image/png": "[encoded data removed]",
      "text/plain": [
       "<Figure size 1080x720 with 1 Axes>"
      ]
     },
     "metadata": {
      "needs_background": "light"
     },
     "output_type": "display_data"
    }
   ],
   "source": [
    "import seaborn as sns \n",
    "import matplotlib.pyplot as plt\n",
    "\n",
    "sns.set_context('talk')\n",
    "sns.set_palette('muted')\n",
    "plt.figure(figsize=(15,10))\n",
    "sns.barplot(data=results_df, hue='model type', y='training_time', x='embeddings type')\n",
    "plt.ylabel('learning time (s)')\n",
    "plt.xlabel('embedding type')\n",
    "plt.savefig('trainig_time_emotions.pdf')\n",
    "\n",
    "plt.figure(figsize=(15,10))\n",
    "\n",
    "sns.barplot(data=results_df, hue='model type', y='best_epoch', x='embeddings type')\n",
    "\n",
    "plt.ylabel('learning time (s)')\n",
    "plt.xlabel('embedding type')\n",
    "\n",
    "plt.savefig('')"
   ]
  },
  {
   "cell_type": "markdown",
   "metadata": {},
   "source": [
    "## Testing time results"
   ]
  },
  {
   "cell_type": "code",
   "execution_count": null,
   "metadata": {},
   "outputs": [
    {
     "data": {
      "text/html": [
       "<div>\n",
       "<style scoped>\n",
       "    .dataframe tbody tr th:only-of-type {\n",
       "        vertical-align: middle;\n",
       "    }\n",
       "\n",
       "    .dataframe tbody tr th {\n",
       "        vertical-align: top;\n",
       "    }\n",
       "\n",
       "    .dataframe thead th {\n",
       "        text-align: right;\n",
       "    }\n",
       "</style>\n",
       "<table border=\"1\" class=\"dataframe\">\n",
       "  <thead>\n",
       "    <tr style=\"text-align: right;\">\n",
       "      <th></th>\n",
       "      <th>dataset</th>\n",
       "      <th>model_type</th>\n",
       "      <th>embeddings_type</th>\n",
       "      <th>embedding_size</th>\n",
       "      <th>fold_num</th>\n",
       "      <th>regression</th>\n",
       "      <th>words_per_texts</th>\n",
       "      <th>min_word_count</th>\n",
       "      <th>dp_emb</th>\n",
       "      <th>test_time_mean</th>\n",
       "      <th>test_time_std</th>\n",
       "    </tr>\n",
       "  </thead>\n",
       "  <tbody>\n",
       "    <tr>\n",
       "      <th>0</th>\n",
       "      <td>EmotionsDataModule</td>\n",
       "      <td>baseline</td>\n",
       "      <td>labse</td>\n",
       "      <td>50</td>\n",
       "      <td>0</td>\n",
       "      <td>True</td>\n",
       "      <td>100</td>\n",
       "      <td>200</td>\n",
       "      <td>0.25</td>\n",
       "      <td>0.000108</td>\n",
       "      <td>0.000077</td>\n",
       "    </tr>\n",
       "    <tr>\n",
       "      <th>1</th>\n",
       "      <td>EmotionsDataModule</td>\n",
       "      <td>onehot</td>\n",
       "      <td>labse</td>\n",
       "      <td>50</td>\n",
       "      <td>0</td>\n",
       "      <td>True</td>\n",
       "      <td>100</td>\n",
       "      <td>200</td>\n",
       "      <td>0.25</td>\n",
       "      <td>0.000154</td>\n",
       "      <td>0.000054</td>\n",
       "    </tr>\n",
       "    <tr>\n",
       "      <th>2</th>\n",
       "      <td>EmotionsDataModule</td>\n",
       "      <td>peb</td>\n",
       "      <td>labse</td>\n",
       "      <td>50</td>\n",
       "      <td>0</td>\n",
       "      <td>True</td>\n",
       "      <td>100</td>\n",
       "      <td>200</td>\n",
       "      <td>0.25</td>\n",
       "      <td>0.000156</td>\n",
       "      <td>0.000187</td>\n",
       "    </tr>\n",
       "    <tr>\n",
       "      <th>3</th>\n",
       "      <td>EmotionsDataModule</td>\n",
       "      <td>bias</td>\n",
       "      <td>labse</td>\n",
       "      <td>50</td>\n",
       "      <td>0</td>\n",
       "      <td>True</td>\n",
       "      <td>100</td>\n",
       "      <td>200</td>\n",
       "      <td>0.25</td>\n",
       "      <td>0.000365</td>\n",
       "      <td>0.000144</td>\n",
       "    </tr>\n",
       "    <tr>\n",
       "      <th>4</th>\n",
       "      <td>EmotionsDataModule</td>\n",
       "      <td>word_bias</td>\n",
       "      <td>labse</td>\n",
       "      <td>50</td>\n",
       "      <td>0</td>\n",
       "      <td>True</td>\n",
       "      <td>100</td>\n",
       "      <td>200</td>\n",
       "      <td>0.25</td>\n",
       "      <td>0.000294</td>\n",
       "      <td>0.000095</td>\n",
       "    </tr>\n",
       "    <tr>\n",
       "      <th>5</th>\n",
       "      <td>EmotionsDataModule</td>\n",
       "      <td>embedding</td>\n",
       "      <td>labse</td>\n",
       "      <td>50</td>\n",
       "      <td>0</td>\n",
       "      <td>True</td>\n",
       "      <td>100</td>\n",
       "      <td>200</td>\n",
       "      <td>0.25</td>\n",
       "      <td>0.000422</td>\n",
       "      <td>0.000221</td>\n",
       "    </tr>\n",
       "    <tr>\n",
       "      <th>6</th>\n",
       "      <td>EmotionsDataModule</td>\n",
       "      <td>word_embedding</td>\n",
       "      <td>labse</td>\n",
       "      <td>50</td>\n",
       "      <td>0</td>\n",
       "      <td>True</td>\n",
       "      <td>100</td>\n",
       "      <td>200</td>\n",
       "      <td>0.25</td>\n",
       "      <td>0.000436</td>\n",
       "      <td>0.000276</td>\n",
       "    </tr>\n",
       "  </tbody>\n",
       "</table>\n",
       "</div>"
      ],
      "text/plain": [
       "              dataset      model_type embeddings_type  embedding_size  \\\n",
       "0  EmotionsDataModule        baseline           labse              50   \n",
       "1  EmotionsDataModule          onehot           labse              50   \n",
       "2  EmotionsDataModule             peb           labse              50   \n",
       "3  EmotionsDataModule            bias           labse              50   \n",
       "4  EmotionsDataModule       word_bias           labse              50   \n",
       "5  EmotionsDataModule       embedding           labse              50   \n",
       "6  EmotionsDataModule  word_embedding           labse              50   \n",
       "\n",
       "   fold_num  regression  words_per_texts  min_word_count  dp_emb  \\\n",
       "0         0        True              100             200    0.25   \n",
       "1         0        True              100             200    0.25   \n",
       "2         0        True              100             200    0.25   \n",
       "3         0        True              100             200    0.25   \n",
       "4         0        True              100             200    0.25   \n",
       "5         0        True              100             200    0.25   \n",
       "6         0        True              100             200    0.25   \n",
       "\n",
       "   test_time_mean  test_time_std  \n",
       "0        0.000108       0.000077  \n",
       "1        0.000154       0.000054  \n",
       "2        0.000156       0.000187  \n",
       "3        0.000365       0.000144  \n",
       "4        0.000294       0.000095  \n",
       "5        0.000422       0.000221  \n",
       "6        0.000436       0.000276  "
      ]
     },
     "execution_count": 23,
     "metadata": {},
     "output_type": "execute_result"
    }
   ],
   "source": [
    "from collections import defaultdict\n",
    "import pandas as pd \n",
    "\n",
    "result_dict = defaultdict(list)\n",
    "\n",
    "for hparams, callback, model in results:\n",
    "\n",
    "    for hparam_key, hparam_value in hparams.items():\n",
    "        result_dict[hparam_key].append(hparam_value)\n",
    "    \n",
    "    result_dict['test_time_mean'].append(np.sum(model.testing_times) / test_repetitions) \n",
    "    result_dict['test_time_std'].append(np.std(model.testing_times)) \n",
    "    \n",
    "results_df = pd.DataFrame(result_dict)\n",
    "results_df"
   ]
  },
  {
   "cell_type": "code",
   "execution_count": null,
   "metadata": {},
   "outputs": [],
   "source": [
    "results_df.to_csv('./data/timings/testing.times.csv')\n",
    "results_df = pd.read_csv('./data/timings/testing.times.csv')\n",
    "results_df['model type'] = results_df['model_type'].apply(model_names_dicts.get)\n",
    "results_df['embeddings type'] = results_df['embeddings_type'].apply(language_model_names_dicts.get)\n",
    "\n",
    "results_df = results_df.sort_values(by='model type', key=lambda x: x.map(model_names_order.index))\n"
   ]
  },
  {
   "cell_type": "code",
   "execution_count": null,
   "metadata": {},
   "outputs": [
    {
     "data": {
      "image/png": "[encoded data removed]",
      "text/plain": [
       "<Figure size 1080x720 with 1 Axes>"
      ]
     },
     "metadata": {
      "needs_background": "light"
     },
     "output_type": "display_data"
    },
    {
     "data": {
      "text/plain": [
       "<AxesSubplot:xlabel='embeddings_type', ylabel='test_time_std'>"
      ]
     },
     "execution_count": 25,
     "metadata": {},
     "output_type": "execute_result"
    },
    {
     "data": {
      "image/png": "[encoded data removed]",
      "text/plain": [
       "<Figure size 1080x720 with 1 Axes>"
      ]
     },
     "metadata": {
      "needs_background": "light"
     },
     "output_type": "display_data"
    }
   ],
   "source": [
    "results_df\n",
    "\n",
    "import seaborn as sns \n",
    "import matplotlib.pyplot as plt\n",
    "\n",
    "sns.set_context('talk')\n",
    "plt.figure(figsize=(15,10))\n",
    "sns.barplot(data=results_df, hue='model type', y='test_time_mean', x='embeddings type')\n",
    "plt.ylabel('testing time (s)')\n",
    "plt.xlabel('embedding type')\n",
    "plt.savefig('testing_time_emotions.pdf')\n",
    "plt.show()\n",
    "\n",
    "plt.figure(figsize=(15,10))\n",
    "sns.barplot(data=results_df, hue='model_type', y='test_time_std', x='embeddings_type')\n"
   ]
  },
  {
   "cell_type": "code",
   "execution_count": null,
   "metadata": {},
   "outputs": [],
   "source": []
  },
  {
   "cell_type": "code",
   "execution_count": null,
   "metadata": {},
   "outputs": [],
   "source": []
  }
 ],
 "metadata": {
  "kernelspec": {
   "display_name": "Python 3",
   "language": "python",
   "name": "python3"
  },
  "language_info": {
   "codemirror_mode": {
    "name": "ipython",
    "version": 3
   },
   "file_extension": ".py",
   "mimetype": "text/x-python",
   "name": "python",
   "nbconvert_exporter": "python",
   "pygments_lexer": "ipython3",
   "version": "3.8.5"
  }
 },
 "nbformat": 4,
 "nbformat_minor": 4
}
